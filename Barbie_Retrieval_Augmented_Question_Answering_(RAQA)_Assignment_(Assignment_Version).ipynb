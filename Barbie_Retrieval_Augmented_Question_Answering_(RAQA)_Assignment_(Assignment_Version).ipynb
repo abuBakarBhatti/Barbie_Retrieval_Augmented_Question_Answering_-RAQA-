{
  "nbformat": 4,
  "nbformat_minor": 0,
  "metadata": {
    "colab": {
      "provenance": []
    },
    "kernelspec": {
      "name": "python3",
      "display_name": "Python 3"
    },
    "language_info": {
      "name": "python"
    }
  },
  "cells": [
    {
      "cell_type": "markdown",
      "metadata": {
        "id": "view-in-github"
      },
      "source": [
        "<a href=\"https://colab.research.google.com/github/AI-Maker-Space/LLM-Ops-Vault/blob/main/Week%201/First%20Session/Barbie_Retrieval_Augmented_Question_Answering_(RAQA)_Assignment%20(Assignment%20Version).ipynb\" target=\"_parent\"><img src=\"https://colab.research.google.com/assets/colab-badge.svg\" alt=\"Open In Colab\"/></a>"
      ]
    },
    {
      "cell_type": "markdown",
      "source": [
        "# Questioning Barbie Reviews with RAQA (Retrieval Augmented Question Answering)\n",
        "\n",
        "In the following notebook, you are tasked with creating a system that answers questions based on information found in reviews of the 2023 Barbie movie.\n",
        "\n",
        "## Build 🏗️\n",
        "\n",
        "There are 3 main tasks in this notebook:\n",
        "\n",
        "1. Obtain and parse reviews from a review website\n",
        "2. Create a Vectorstore from the reviews\n",
        "3. Create a `RetrievalQA` using the VectorStore\n",
        "\n",
        "## Ship 🚢\n",
        "\n",
        "Create a Hugging Face Space that hosts your application.\n",
        "\n",
        "## Share 🚀\n",
        "\n",
        "Make a social media post about your final application."
      ],
      "metadata": {
        "id": "PLi09z_3qW8O"
      }
    },
    {
      "cell_type": "markdown",
      "source": [
        ">### Why RAQA and not RAG?\n",
        ">If we look at the original [paper](https://arxiv.org/abs/2005.11401), we find that RAG is a fairly specific and well defined term that isn't exactly the same as \"retrieve context, feed context to model in the prompt\".\n",
        ">For that reason, we're making the decision to delineate between \"actual\" RAG, and Retrieval Augmented Question Answering - which is not a well defined phrase."
      ],
      "metadata": {
        "id": "_BBraMxjrwOx"
      }
    },
    {
      "cell_type": "markdown",
      "source": [
        "### Pre-task Work\n",
        "\n",
        "All we really need to do to get started is to get our prerequisites!\n",
        "\n",
        "We'll be leveraging `langchain` and `openai` today.\n",
        "\n",
        "Check out the docs:\n",
        "- [LangChain](https://docs.langchain.com/docs/)\n",
        "- [OpenAI](https://github.com/openai/openai-python)"
      ],
      "metadata": {
        "id": "zcL8585DsZML"
      }
    },
    {
      "cell_type": "code",
      "execution_count": 1,
      "metadata": {
        "id": "vQa6rjDLqPCI"
      },
      "outputs": [],
      "source": [
        "!pip install -q -U openai langchain"
      ]
    },
    {
      "cell_type": "code",
      "source": [
        "import os\n",
        "import getpass\n",
        "\n",
        "os.environ[\"OPENAI_API_KEY\"] = getpass.getpass(\"Open AI API Key:\")"
      ],
      "metadata": {
        "id": "1wF8_ODX5h-P",
        "colab": {
          "base_uri": "https://localhost:8080/"
        },
        "outputId": "15cbad21-80aa-47ab-c238-add00f8b79b0"
      },
      "execution_count": 2,
      "outputs": [
        {
          "name": "stdout",
          "output_type": "stream",
          "text": [
            "Open AI API Key:··········\n"
          ]
        }
      ]
    },
    {
      "cell_type": "markdown",
      "source": [
        "### Task 1: Data Preparation\n",
        "\n",
        "In this task we'll be collecting, and then parsing, our data."
      ],
      "metadata": {
        "id": "FLrL342RtWxf"
      }
    },
    {
      "cell_type": "markdown",
      "source": [
        "#### Scraping IMDB Reviews of Barbie\n",
        "\n",
        "We'll use some Selenium based trickery to get the reviews we need to make our application.\n",
        "\n",
        "Check out the docs here:\n",
        "- [Selenium](https://www.selenium.dev/documentation/)"
      ],
      "metadata": {
        "id": "zh8QTtMhzY_g"
      }
    },
    {
      "cell_type": "code",
      "source": [
        "!pip install -q -U requests"
      ],
      "metadata": {
        "id": "PsGPV2zHuCj2"
      },
      "execution_count": 3,
      "outputs": []
    },
    {
      "cell_type": "code",
      "source": [
        "!pip install -q -U scrapy selenium"
      ],
      "metadata": {
        "id": "uCNCZdzrw81B"
      },
      "execution_count": 4,
      "outputs": []
    },
    {
      "cell_type": "code",
      "source": [
        "!apt install chromium-chromedriver"
      ],
      "metadata": {
        "id": "evZzjyX6xTbZ",
        "colab": {
          "base_uri": "https://localhost:8080/"
        },
        "outputId": "6c834042-ae81-408c-c2b9-1b018b2efce9"
      },
      "execution_count": 5,
      "outputs": [
        {
          "output_type": "stream",
          "name": "stdout",
          "text": [
            "Reading package lists... Done\n",
            "Building dependency tree... Done\n",
            "Reading state information... Done\n",
            "chromium-chromedriver is already the newest version (1:85.0.4183.83-0ubuntu2.22.04.1).\n",
            "0 upgraded, 0 newly installed, 0 to remove and 34 not upgraded.\n"
          ]
        }
      ]
    },
    {
      "cell_type": "code",
      "source": [
        "import numpy as np\n",
        "import pandas as pd\n",
        "from scrapy.selector import Selector\n",
        "from selenium import webdriver\n",
        "from selenium.webdriver.common.by import By\n",
        "from selenium.webdriver.common.keys import Keys\n",
        "import time\n",
        "from tqdm import tqdm\n",
        "import warnings\n",
        "warnings.filterwarnings(\"ignore\")"
      ],
      "metadata": {
        "id": "Niq6DKMOwPIn"
      },
      "execution_count": 6,
      "outputs": []
    },
    {
      "cell_type": "code",
      "source": [
        "chrome_options = webdriver.ChromeOptions()\n",
        "chrome_options.add_argument('--headless')\n",
        "chrome_options.add_argument('--no-sandbox')\n",
        "chrome_options.add_argument('--disable-dev-shm-usage')\n",
        "driver = webdriver.Chrome(options=chrome_options)"
      ],
      "metadata": {
        "id": "k9AA_f-DxGyv"
      },
      "execution_count": 7,
      "outputs": []
    },
    {
      "cell_type": "code",
      "source": [
        "url = \"https://www.imdb.com/title/tt1517268/reviews/?ref_=tt_ov_rt\"\n",
        "driver.get(url)"
      ],
      "metadata": {
        "id": "IsjYL7K_y1ip"
      },
      "execution_count": 21,
      "outputs": []
    },
    {
      "cell_type": "code",
      "source": [
        "sel = Selector(text = driver.page_source)\n",
        "review_counts = sel.css('.lister .header span::text').extract_first().replace(',','').split(' ')[0]\n",
        "more_review_pages = int(int(review_counts)/25)"
      ],
      "metadata": {
        "id": "XPGysdwuy190"
      },
      "execution_count": 22,
      "outputs": []
    },
    {
      "cell_type": "code",
      "source": [
        "more_review_pages\n"
      ],
      "metadata": {
        "colab": {
          "base_uri": "https://localhost:8080/"
        },
        "id": "yzPd5HeeAnzA",
        "outputId": "4a4eeb4c-b022-4941-f138-cfd87e4e89ae"
      },
      "execution_count": 23,
      "outputs": [
        {
          "output_type": "execute_result",
          "data": {
            "text/plain": [
              "67"
            ]
          },
          "metadata": {},
          "execution_count": 23
        }
      ]
    },
    {
      "cell_type": "code",
      "source": [
        "for i in tqdm(range(more_review_pages)):\n",
        "    try:\n",
        "        css_selector = 'load-more-trigger'\n",
        "        driver.find_element(By.ID, css_selector).click()\n",
        "    except:\n",
        "        pass"
      ],
      "metadata": {
        "colab": {
          "base_uri": "https://localhost:8080/"
        },
        "id": "eGSJ0vuDy4D2",
        "outputId": "f9c638af-08ac-49f8-fc72-d702c4f457a0"
      },
      "execution_count": 24,
      "outputs": [
        {
          "output_type": "stream",
          "name": "stderr",
          "text": [
            "100%|██████████| 67/67 [00:02<00:00, 32.02it/s]\n"
          ]
        }
      ]
    },
    {
      "cell_type": "code",
      "source": [
        "rating_list = []\n",
        "review_date_list = []\n",
        "review_title_list = []\n",
        "author_list = []\n",
        "review_list = []\n",
        "review_url_list = []\n",
        "error_url_list = []\n",
        "error_msg_list = []\n",
        "reviews = driver.find_elements(By.CSS_SELECTOR, 'div.review-container')\n",
        "\n",
        "for d in tqdm(reviews):\n",
        "    try:\n",
        "        sel2 = Selector(text = d.get_attribute('innerHTML'))\n",
        "        try:\n",
        "            rating = sel2.css('.rating-other-user-rating span::text').extract_first()\n",
        "        except:\n",
        "            rating = np.NaN\n",
        "        try:\n",
        "            review = sel2.css('.text.show-more__control::text').extract_first()\n",
        "        except:\n",
        "            review = np.NaN\n",
        "        try:\n",
        "            review_date = sel2.css('.review-date::text').extract_first()\n",
        "        except:\n",
        "            review_date = np.NaN\n",
        "        try:\n",
        "            author = sel2.css('.display-name-link a::text').extract_first()\n",
        "        except:\n",
        "            author = np.NaN\n",
        "        try:\n",
        "            review_title = sel2.css('a.title::text').extract_first()\n",
        "        except:\n",
        "            review_title = np.NaN\n",
        "        try:\n",
        "            review_url = sel2.css('a.title::attr(href)').extract_first()\n",
        "        except:\n",
        "            review_url = np.NaN\n",
        "        rating_list.append(rating)\n",
        "        review_date_list.append(review_date)\n",
        "        review_title_list.append(review_title)\n",
        "        author_list.append(author)\n",
        "        review_list.append(review)\n",
        "        review_url_list.append(review_url)\n",
        "    except Exception as e:\n",
        "        error_url_list.append(url)\n",
        "        error_msg_list.append(e)\n",
        "review_df = pd.DataFrame({\n",
        "    'Review_Date':review_date_list,\n",
        "    'Author':author_list,\n",
        "    'Rating':rating_list,\n",
        "    'Review_Title':review_title_list,\n",
        "    'Review':review_list,\n",
        "    'Review_Url':review_url\n",
        "    })"
      ],
      "metadata": {
        "colab": {
          "base_uri": "https://localhost:8080/"
        },
        "id": "c46cAciBxr2C",
        "outputId": "065baee1-a8ac-4368-ab0e-225717ce295e"
      },
      "execution_count": 25,
      "outputs": [
        {
          "output_type": "stream",
          "name": "stderr",
          "text": [
            "100%|██████████| 125/125 [00:00<00:00, 182.37it/s]\n"
          ]
        }
      ]
    },
    {
      "cell_type": "code",
      "source": [
        "review_df"
      ],
      "metadata": {
        "id": "W9A0C1tbyfuh",
        "colab": {
          "base_uri": "https://localhost:8080/",
          "height": 753
        },
        "outputId": "a69cd7b4-983e-496d-e29a-92aa0e6c1581"
      },
      "execution_count": 26,
      "outputs": [
        {
          "output_type": "execute_result",
          "data": {
            "text/plain": [
              "        Review_Date                      Author Rating  \\\n",
              "0      21 July 2023                LoveofLegacy      6   \n",
              "1      26 July 2023  aherdofbeautifulwildponies      6   \n",
              "2      23 July 2023                   Revuer223      6   \n",
              "3      31 July 2023                   ramair350     10   \n",
              "4      22 July 2023                    Natcat87      6   \n",
              "..              ...                         ...    ...   \n",
              "120  12 August 2023              eagandersongil      8   \n",
              "121    23 July 2023         jcollins-458-415387      7   \n",
              "122    21 July 2023               jonathanruano      2   \n",
              "123    23 July 2023                   nethy-nho     10   \n",
              "124  16 August 2023                  southdavid      7   \n",
              "\n",
              "                                          Review_Title  \\\n",
              "0                     Beautiful film, but so preachy\\n   \n",
              "1                                    A Hot Pink Mess\\n   \n",
              "2     Could Have Been Great. 2nd Half Brings It Dow...   \n",
              "3     As a guy I felt some discomfort, and that's o...   \n",
              "4                                   Too heavy handed\\n   \n",
              "..                                                 ...   \n",
              "120                              A perfect dollhouse\\n   \n",
              "121                       Just enjoy it. It's funny.\\n   \n",
              "122                         Barbie - Unspeakably Bad\\n   \n",
              "123   Barbie is not a simple live action of a timel...   \n",
              "124                       Kenchanting Kentertainment\\n   \n",
              "\n",
              "                                                Review  \\\n",
              "0    Margot does the best with what she's given, bu...   \n",
              "1                        Before making Barbie (2023),    \n",
              "2    The quality, the humor, and the writing of the...   \n",
              "3    As much as it pains me to give a movie called ...   \n",
              "4    As a woman that grew up with Barbie, I was ver...   \n",
              "..                                                 ...   \n",
              "120  \"Barbie\": Greta Gerwig's new film manages to b...   \n",
              "121  First off, I'm a 60 year-old white male and th...   \n",
              "122  I am not surprised in the least that the Barbi...   \n",
              "123  But it is also in its smallest details, from t...   \n",
              "124  Based purely on having come out of one film an...   \n",
              "\n",
              "                         Review_Url  \n",
              "0    /review/rw9263566/?ref_=tt_urv  \n",
              "1    /review/rw9263566/?ref_=tt_urv  \n",
              "2    /review/rw9263566/?ref_=tt_urv  \n",
              "3    /review/rw9263566/?ref_=tt_urv  \n",
              "4    /review/rw9263566/?ref_=tt_urv  \n",
              "..                              ...  \n",
              "120  /review/rw9263566/?ref_=tt_urv  \n",
              "121  /review/rw9263566/?ref_=tt_urv  \n",
              "122  /review/rw9263566/?ref_=tt_urv  \n",
              "123  /review/rw9263566/?ref_=tt_urv  \n",
              "124  /review/rw9263566/?ref_=tt_urv  \n",
              "\n",
              "[125 rows x 6 columns]"
            ],
            "text/html": [
              "\n",
              "  <div id=\"df-78c6a930-c1f5-4749-8289-ec4f13f4b085\" class=\"colab-df-container\">\n",
              "    <div>\n",
              "<style scoped>\n",
              "    .dataframe tbody tr th:only-of-type {\n",
              "        vertical-align: middle;\n",
              "    }\n",
              "\n",
              "    .dataframe tbody tr th {\n",
              "        vertical-align: top;\n",
              "    }\n",
              "\n",
              "    .dataframe thead th {\n",
              "        text-align: right;\n",
              "    }\n",
              "</style>\n",
              "<table border=\"1\" class=\"dataframe\">\n",
              "  <thead>\n",
              "    <tr style=\"text-align: right;\">\n",
              "      <th></th>\n",
              "      <th>Review_Date</th>\n",
              "      <th>Author</th>\n",
              "      <th>Rating</th>\n",
              "      <th>Review_Title</th>\n",
              "      <th>Review</th>\n",
              "      <th>Review_Url</th>\n",
              "    </tr>\n",
              "  </thead>\n",
              "  <tbody>\n",
              "    <tr>\n",
              "      <th>0</th>\n",
              "      <td>21 July 2023</td>\n",
              "      <td>LoveofLegacy</td>\n",
              "      <td>6</td>\n",
              "      <td>Beautiful film, but so preachy\\n</td>\n",
              "      <td>Margot does the best with what she's given, bu...</td>\n",
              "      <td>/review/rw9263566/?ref_=tt_urv</td>\n",
              "    </tr>\n",
              "    <tr>\n",
              "      <th>1</th>\n",
              "      <td>26 July 2023</td>\n",
              "      <td>aherdofbeautifulwildponies</td>\n",
              "      <td>6</td>\n",
              "      <td>A Hot Pink Mess\\n</td>\n",
              "      <td>Before making Barbie (2023),</td>\n",
              "      <td>/review/rw9263566/?ref_=tt_urv</td>\n",
              "    </tr>\n",
              "    <tr>\n",
              "      <th>2</th>\n",
              "      <td>23 July 2023</td>\n",
              "      <td>Revuer223</td>\n",
              "      <td>6</td>\n",
              "      <td>Could Have Been Great. 2nd Half Brings It Dow...</td>\n",
              "      <td>The quality, the humor, and the writing of the...</td>\n",
              "      <td>/review/rw9263566/?ref_=tt_urv</td>\n",
              "    </tr>\n",
              "    <tr>\n",
              "      <th>3</th>\n",
              "      <td>31 July 2023</td>\n",
              "      <td>ramair350</td>\n",
              "      <td>10</td>\n",
              "      <td>As a guy I felt some discomfort, and that's o...</td>\n",
              "      <td>As much as it pains me to give a movie called ...</td>\n",
              "      <td>/review/rw9263566/?ref_=tt_urv</td>\n",
              "    </tr>\n",
              "    <tr>\n",
              "      <th>4</th>\n",
              "      <td>22 July 2023</td>\n",
              "      <td>Natcat87</td>\n",
              "      <td>6</td>\n",
              "      <td>Too heavy handed\\n</td>\n",
              "      <td>As a woman that grew up with Barbie, I was ver...</td>\n",
              "      <td>/review/rw9263566/?ref_=tt_urv</td>\n",
              "    </tr>\n",
              "    <tr>\n",
              "      <th>...</th>\n",
              "      <td>...</td>\n",
              "      <td>...</td>\n",
              "      <td>...</td>\n",
              "      <td>...</td>\n",
              "      <td>...</td>\n",
              "      <td>...</td>\n",
              "    </tr>\n",
              "    <tr>\n",
              "      <th>120</th>\n",
              "      <td>12 August 2023</td>\n",
              "      <td>eagandersongil</td>\n",
              "      <td>8</td>\n",
              "      <td>A perfect dollhouse\\n</td>\n",
              "      <td>\"Barbie\": Greta Gerwig's new film manages to b...</td>\n",
              "      <td>/review/rw9263566/?ref_=tt_urv</td>\n",
              "    </tr>\n",
              "    <tr>\n",
              "      <th>121</th>\n",
              "      <td>23 July 2023</td>\n",
              "      <td>jcollins-458-415387</td>\n",
              "      <td>7</td>\n",
              "      <td>Just enjoy it. It's funny.\\n</td>\n",
              "      <td>First off, I'm a 60 year-old white male and th...</td>\n",
              "      <td>/review/rw9263566/?ref_=tt_urv</td>\n",
              "    </tr>\n",
              "    <tr>\n",
              "      <th>122</th>\n",
              "      <td>21 July 2023</td>\n",
              "      <td>jonathanruano</td>\n",
              "      <td>2</td>\n",
              "      <td>Barbie - Unspeakably Bad\\n</td>\n",
              "      <td>I am not surprised in the least that the Barbi...</td>\n",
              "      <td>/review/rw9263566/?ref_=tt_urv</td>\n",
              "    </tr>\n",
              "    <tr>\n",
              "      <th>123</th>\n",
              "      <td>23 July 2023</td>\n",
              "      <td>nethy-nho</td>\n",
              "      <td>10</td>\n",
              "      <td>Barbie is not a simple live action of a timel...</td>\n",
              "      <td>But it is also in its smallest details, from t...</td>\n",
              "      <td>/review/rw9263566/?ref_=tt_urv</td>\n",
              "    </tr>\n",
              "    <tr>\n",
              "      <th>124</th>\n",
              "      <td>16 August 2023</td>\n",
              "      <td>southdavid</td>\n",
              "      <td>7</td>\n",
              "      <td>Kenchanting Kentertainment\\n</td>\n",
              "      <td>Based purely on having come out of one film an...</td>\n",
              "      <td>/review/rw9263566/?ref_=tt_urv</td>\n",
              "    </tr>\n",
              "  </tbody>\n",
              "</table>\n",
              "<p>125 rows × 6 columns</p>\n",
              "</div>\n",
              "    <div class=\"colab-df-buttons\">\n",
              "\n",
              "  <div class=\"colab-df-container\">\n",
              "    <button class=\"colab-df-convert\" onclick=\"convertToInteractive('df-78c6a930-c1f5-4749-8289-ec4f13f4b085')\"\n",
              "            title=\"Convert this dataframe to an interactive table.\"\n",
              "            style=\"display:none;\">\n",
              "\n",
              "  <svg xmlns=\"http://www.w3.org/2000/svg\" height=\"24px\" viewBox=\"0 -960 960 960\">\n",
              "    <path d=\"M120-120v-720h720v720H120Zm60-500h600v-160H180v160Zm220 220h160v-160H400v160Zm0 220h160v-160H400v160ZM180-400h160v-160H180v160Zm440 0h160v-160H620v160ZM180-180h160v-160H180v160Zm440 0h160v-160H620v160Z\"/>\n",
              "  </svg>\n",
              "    </button>\n",
              "\n",
              "  <style>\n",
              "    .colab-df-container {\n",
              "      display:flex;\n",
              "      gap: 12px;\n",
              "    }\n",
              "\n",
              "    .colab-df-convert {\n",
              "      background-color: #E8F0FE;\n",
              "      border: none;\n",
              "      border-radius: 50%;\n",
              "      cursor: pointer;\n",
              "      display: none;\n",
              "      fill: #1967D2;\n",
              "      height: 32px;\n",
              "      padding: 0 0 0 0;\n",
              "      width: 32px;\n",
              "    }\n",
              "\n",
              "    .colab-df-convert:hover {\n",
              "      background-color: #E2EBFA;\n",
              "      box-shadow: 0px 1px 2px rgba(60, 64, 67, 0.3), 0px 1px 3px 1px rgba(60, 64, 67, 0.15);\n",
              "      fill: #174EA6;\n",
              "    }\n",
              "\n",
              "    .colab-df-buttons div {\n",
              "      margin-bottom: 4px;\n",
              "    }\n",
              "\n",
              "    [theme=dark] .colab-df-convert {\n",
              "      background-color: #3B4455;\n",
              "      fill: #D2E3FC;\n",
              "    }\n",
              "\n",
              "    [theme=dark] .colab-df-convert:hover {\n",
              "      background-color: #434B5C;\n",
              "      box-shadow: 0px 1px 3px 1px rgba(0, 0, 0, 0.15);\n",
              "      filter: drop-shadow(0px 1px 2px rgba(0, 0, 0, 0.3));\n",
              "      fill: #FFFFFF;\n",
              "    }\n",
              "  </style>\n",
              "\n",
              "    <script>\n",
              "      const buttonEl =\n",
              "        document.querySelector('#df-78c6a930-c1f5-4749-8289-ec4f13f4b085 button.colab-df-convert');\n",
              "      buttonEl.style.display =\n",
              "        google.colab.kernel.accessAllowed ? 'block' : 'none';\n",
              "\n",
              "      async function convertToInteractive(key) {\n",
              "        const element = document.querySelector('#df-78c6a930-c1f5-4749-8289-ec4f13f4b085');\n",
              "        const dataTable =\n",
              "          await google.colab.kernel.invokeFunction('convertToInteractive',\n",
              "                                                    [key], {});\n",
              "        if (!dataTable) return;\n",
              "\n",
              "        const docLinkHtml = 'Like what you see? Visit the ' +\n",
              "          '<a target=\"_blank\" href=https://colab.research.google.com/notebooks/data_table.ipynb>data table notebook</a>'\n",
              "          + ' to learn more about interactive tables.';\n",
              "        element.innerHTML = '';\n",
              "        dataTable['output_type'] = 'display_data';\n",
              "        await google.colab.output.renderOutput(dataTable, element);\n",
              "        const docLink = document.createElement('div');\n",
              "        docLink.innerHTML = docLinkHtml;\n",
              "        element.appendChild(docLink);\n",
              "      }\n",
              "    </script>\n",
              "  </div>\n",
              "\n",
              "\n",
              "<div id=\"df-c2dc9564-4a3d-41b9-975c-a923f96fe954\">\n",
              "  <button class=\"colab-df-quickchart\" onclick=\"quickchart('df-c2dc9564-4a3d-41b9-975c-a923f96fe954')\"\n",
              "            title=\"Suggest charts\"\n",
              "            style=\"display:none;\">\n",
              "\n",
              "<svg xmlns=\"http://www.w3.org/2000/svg\" height=\"24px\"viewBox=\"0 0 24 24\"\n",
              "     width=\"24px\">\n",
              "    <g>\n",
              "        <path d=\"M19 3H5c-1.1 0-2 .9-2 2v14c0 1.1.9 2 2 2h14c1.1 0 2-.9 2-2V5c0-1.1-.9-2-2-2zM9 17H7v-7h2v7zm4 0h-2V7h2v10zm4 0h-2v-4h2v4z\"/>\n",
              "    </g>\n",
              "</svg>\n",
              "  </button>\n",
              "\n",
              "<style>\n",
              "  .colab-df-quickchart {\n",
              "      --bg-color: #E8F0FE;\n",
              "      --fill-color: #1967D2;\n",
              "      --hover-bg-color: #E2EBFA;\n",
              "      --hover-fill-color: #174EA6;\n",
              "      --disabled-fill-color: #AAA;\n",
              "      --disabled-bg-color: #DDD;\n",
              "  }\n",
              "\n",
              "  [theme=dark] .colab-df-quickchart {\n",
              "      --bg-color: #3B4455;\n",
              "      --fill-color: #D2E3FC;\n",
              "      --hover-bg-color: #434B5C;\n",
              "      --hover-fill-color: #FFFFFF;\n",
              "      --disabled-bg-color: #3B4455;\n",
              "      --disabled-fill-color: #666;\n",
              "  }\n",
              "\n",
              "  .colab-df-quickchart {\n",
              "    background-color: var(--bg-color);\n",
              "    border: none;\n",
              "    border-radius: 50%;\n",
              "    cursor: pointer;\n",
              "    display: none;\n",
              "    fill: var(--fill-color);\n",
              "    height: 32px;\n",
              "    padding: 0;\n",
              "    width: 32px;\n",
              "  }\n",
              "\n",
              "  .colab-df-quickchart:hover {\n",
              "    background-color: var(--hover-bg-color);\n",
              "    box-shadow: 0 1px 2px rgba(60, 64, 67, 0.3), 0 1px 3px 1px rgba(60, 64, 67, 0.15);\n",
              "    fill: var(--button-hover-fill-color);\n",
              "  }\n",
              "\n",
              "  .colab-df-quickchart-complete:disabled,\n",
              "  .colab-df-quickchart-complete:disabled:hover {\n",
              "    background-color: var(--disabled-bg-color);\n",
              "    fill: var(--disabled-fill-color);\n",
              "    box-shadow: none;\n",
              "  }\n",
              "\n",
              "  .colab-df-spinner {\n",
              "    border: 2px solid var(--fill-color);\n",
              "    border-color: transparent;\n",
              "    border-bottom-color: var(--fill-color);\n",
              "    animation:\n",
              "      spin 1s steps(1) infinite;\n",
              "  }\n",
              "\n",
              "  @keyframes spin {\n",
              "    0% {\n",
              "      border-color: transparent;\n",
              "      border-bottom-color: var(--fill-color);\n",
              "      border-left-color: var(--fill-color);\n",
              "    }\n",
              "    20% {\n",
              "      border-color: transparent;\n",
              "      border-left-color: var(--fill-color);\n",
              "      border-top-color: var(--fill-color);\n",
              "    }\n",
              "    30% {\n",
              "      border-color: transparent;\n",
              "      border-left-color: var(--fill-color);\n",
              "      border-top-color: var(--fill-color);\n",
              "      border-right-color: var(--fill-color);\n",
              "    }\n",
              "    40% {\n",
              "      border-color: transparent;\n",
              "      border-right-color: var(--fill-color);\n",
              "      border-top-color: var(--fill-color);\n",
              "    }\n",
              "    60% {\n",
              "      border-color: transparent;\n",
              "      border-right-color: var(--fill-color);\n",
              "    }\n",
              "    80% {\n",
              "      border-color: transparent;\n",
              "      border-right-color: var(--fill-color);\n",
              "      border-bottom-color: var(--fill-color);\n",
              "    }\n",
              "    90% {\n",
              "      border-color: transparent;\n",
              "      border-bottom-color: var(--fill-color);\n",
              "    }\n",
              "  }\n",
              "</style>\n",
              "\n",
              "  <script>\n",
              "    async function quickchart(key) {\n",
              "      const quickchartButtonEl =\n",
              "        document.querySelector('#' + key + ' button');\n",
              "      quickchartButtonEl.disabled = true;  // To prevent multiple clicks.\n",
              "      quickchartButtonEl.classList.add('colab-df-spinner');\n",
              "      try {\n",
              "        const charts = await google.colab.kernel.invokeFunction(\n",
              "            'suggestCharts', [key], {});\n",
              "      } catch (error) {\n",
              "        console.error('Error during call to suggestCharts:', error);\n",
              "      }\n",
              "      quickchartButtonEl.classList.remove('colab-df-spinner');\n",
              "      quickchartButtonEl.classList.add('colab-df-quickchart-complete');\n",
              "    }\n",
              "    (() => {\n",
              "      let quickchartButtonEl =\n",
              "        document.querySelector('#df-c2dc9564-4a3d-41b9-975c-a923f96fe954 button');\n",
              "      quickchartButtonEl.style.display =\n",
              "        google.colab.kernel.accessAllowed ? 'block' : 'none';\n",
              "    })();\n",
              "  </script>\n",
              "</div>\n",
              "\n",
              "  <div id=\"id_f63c6f5e-9689-4544-ae21-33cb622f3b07\">\n",
              "    <style>\n",
              "      .colab-df-generate {\n",
              "        background-color: #E8F0FE;\n",
              "        border: none;\n",
              "        border-radius: 50%;\n",
              "        cursor: pointer;\n",
              "        display: none;\n",
              "        fill: #1967D2;\n",
              "        height: 32px;\n",
              "        padding: 0 0 0 0;\n",
              "        width: 32px;\n",
              "      }\n",
              "\n",
              "      .colab-df-generate:hover {\n",
              "        background-color: #E2EBFA;\n",
              "        box-shadow: 0px 1px 2px rgba(60, 64, 67, 0.3), 0px 1px 3px 1px rgba(60, 64, 67, 0.15);\n",
              "        fill: #174EA6;\n",
              "      }\n",
              "\n",
              "      [theme=dark] .colab-df-generate {\n",
              "        background-color: #3B4455;\n",
              "        fill: #D2E3FC;\n",
              "      }\n",
              "\n",
              "      [theme=dark] .colab-df-generate:hover {\n",
              "        background-color: #434B5C;\n",
              "        box-shadow: 0px 1px 3px 1px rgba(0, 0, 0, 0.15);\n",
              "        filter: drop-shadow(0px 1px 2px rgba(0, 0, 0, 0.3));\n",
              "        fill: #FFFFFF;\n",
              "      }\n",
              "    </style>\n",
              "    <button class=\"colab-df-generate\" onclick=\"generateWithVariable('review_df')\"\n",
              "            title=\"Generate code using this dataframe.\"\n",
              "            style=\"display:none;\">\n",
              "\n",
              "  <svg xmlns=\"http://www.w3.org/2000/svg\" height=\"24px\"viewBox=\"0 0 24 24\"\n",
              "       width=\"24px\">\n",
              "    <path d=\"M7,19H8.4L18.45,9,17,7.55,7,17.6ZM5,21V16.75L18.45,3.32a2,2,0,0,1,2.83,0l1.4,1.43a1.91,1.91,0,0,1,.58,1.4,1.91,1.91,0,0,1-.58,1.4L9.25,21ZM18.45,9,17,7.55Zm-12,3A5.31,5.31,0,0,0,4.9,8.1,5.31,5.31,0,0,0,1,6.5,5.31,5.31,0,0,0,4.9,4.9,5.31,5.31,0,0,0,6.5,1,5.31,5.31,0,0,0,8.1,4.9,5.31,5.31,0,0,0,12,6.5,5.46,5.46,0,0,0,6.5,12Z\"/>\n",
              "  </svg>\n",
              "    </button>\n",
              "    <script>\n",
              "      (() => {\n",
              "      const buttonEl =\n",
              "        document.querySelector('#id_f63c6f5e-9689-4544-ae21-33cb622f3b07 button.colab-df-generate');\n",
              "      buttonEl.style.display =\n",
              "        google.colab.kernel.accessAllowed ? 'block' : 'none';\n",
              "\n",
              "      buttonEl.onclick = () => {\n",
              "        google.colab.notebook.generateWithVariable('review_df');\n",
              "      }\n",
              "      })();\n",
              "    </script>\n",
              "  </div>\n",
              "\n",
              "    </div>\n",
              "  </div>\n"
            ],
            "application/vnd.google.colaboratory.intrinsic+json": {
              "type": "dataframe",
              "variable_name": "review_df",
              "repr_error": "'str' object has no attribute 'empty'"
            }
          },
          "metadata": {},
          "execution_count": 26
        }
      ]
    },
    {
      "cell_type": "markdown",
      "source": [
        "Let's save this `pd.DataFrame` as a `.csv` to our local session (this will be terminated when you terminate the Colab session) so we can leverage it in LangChain!\n",
        "\n",
        "Check out the docs if you get stuck:\n",
        "- [`to_csv()`](https://pandas.pydata.org/docs/reference/api/pandas.DataFrame.to_csv.html)"
      ],
      "metadata": {
        "id": "9gHLLYflzw_f"
      }
    },
    {
      "cell_type": "code",
      "source": [
        "### YOUR CODE HERE\n",
        "review_df.to_csv(\"./barbie.csv\")"
      ],
      "metadata": {
        "id": "N9FDhwbNz64p"
      },
      "execution_count": 27,
      "outputs": []
    },
    {
      "cell_type": "markdown",
      "source": [
        "#### Data Parsing\n",
        "\n",
        "Now that we have our data - let's go ahead and start parsing it into a more usable format for LangChain!\n",
        "\n",
        "We'll be using the `CSVLoader` for this application.\n",
        "\n",
        "We also want to be sure to track the sources that our review came from!\n",
        "\n",
        "Check out the docs here:\n",
        "- [`CSVLoader`](https://python.langchain.com/docs/integrations/document_loaders/csv)"
      ],
      "metadata": {
        "id": "JtBD1H8ezNLO"
      }
    },
    {
      "cell_type": "code",
      "source": [
        "from langchain.document_loaders.csv_loader import CSVLoader"
      ],
      "metadata": {
        "id": "AdXub4CszAAt"
      },
      "execution_count": 28,
      "outputs": []
    },
    {
      "cell_type": "code",
      "source": [
        "loader = CSVLoader(\n",
        "    file_path= \"/content/barbie.csv\",\n",
        "    source_column= \"Review_Url\"\n",
        "    )\n",
        "\n",
        "data = loader.load()"
      ],
      "metadata": {
        "id": "piE3_eSi0KGC"
      },
      "execution_count": 29,
      "outputs": []
    },
    {
      "cell_type": "code",
      "source": [
        "len(data)"
      ],
      "metadata": {
        "id": "pvxnyjgh0TRQ",
        "colab": {
          "base_uri": "https://localhost:8080/"
        },
        "outputId": "147a7952-0cbf-4ab4-ae8f-8fd0c4ecb8b5"
      },
      "execution_count": 30,
      "outputs": [
        {
          "output_type": "execute_result",
          "data": {
            "text/plain": [
              "125"
            ]
          },
          "metadata": {},
          "execution_count": 30
        }
      ]
    },
    {
      "cell_type": "code",
      "source": [
        "assert len(data) == 125"
      ],
      "metadata": {
        "id": "26SZD9zb3luR"
      },
      "execution_count": 31,
      "outputs": []
    },
    {
      "cell_type": "markdown",
      "source": [
        "Now that we have collected our review information into a loader - we can go ahead and chunk the reviews into more manageable pieces.\n",
        "\n",
        "We'll be leveraging the `RecursiveCharacterTextSplitter` for this task today.\n",
        "\n",
        "While splitting our text seems like a simple enough task - getting this correct/incorrect can have massive downstream impacts on your application's performance.\n",
        "\n",
        "You can read the docs here:\n",
        "- [RecursiveCharacterTextSplitter](https://python.langchain.com/docs/modules/data_connection/document_transformers/text_splitters/recursive_text_splitter)\n",
        "\n",
        "We want to split our documents into 1000 character length chunks, with 100 characters of overlap.\n",
        "\n",
        "> ### HINT:\n",
        ">It's always worth it to check out the LangChain source code if you're ever in a bind - for instance, if you want to know how to transform a set of documents, check it out [here](https://github.com/langchain-ai/langchain/blob/5e9687a196410e9f41ebcd11eb3f2ca13925545b/libs/langchain/langchain/text_splitter.py#L268C18-L268C18)"
      ],
      "metadata": {
        "id": "_CTameZZ0r76"
      }
    },
    {
      "cell_type": "code",
      "source": [
        "from langchain.text_splitter import RecursiveCharacterTextSplitter\n",
        "\n",
        "text_splitter = RecursiveCharacterTextSplitter(\n",
        "    chunk_size = 1000,       # the character length of the chunk\n",
        "    chunk_overlap = 100, # the character length of the overlap between chunks\n",
        "    length_function = len, # the length function\n",
        ")"
      ],
      "metadata": {
        "id": "uEgcUVtl00Xm"
      },
      "execution_count": 32,
      "outputs": []
    },
    {
      "cell_type": "code",
      "source": [
        "documents =  text_splitter.transform_documents(data)      ### YOUR CODE HERE"
      ],
      "metadata": {
        "id": "y9RJUiUD2gS5"
      },
      "execution_count": 33,
      "outputs": []
    },
    {
      "cell_type": "code",
      "source": [
        "len(documents)"
      ],
      "metadata": {
        "id": "w-oWu5XT3IG4",
        "colab": {
          "base_uri": "https://localhost:8080/"
        },
        "outputId": "f47de63b-c881-42cb-f08c-6b9f5fc5461c"
      },
      "execution_count": 34,
      "outputs": [
        {
          "output_type": "execute_result",
          "data": {
            "text/plain": [
              "192"
            ]
          },
          "metadata": {},
          "execution_count": 34
        }
      ]
    },
    {
      "cell_type": "code",
      "source": [
        "# assert len(documents) == 181"
      ],
      "metadata": {
        "id": "6N4OXAhc3oIB"
      },
      "execution_count": null,
      "outputs": []
    },
    {
      "cell_type": "markdown",
      "source": [
        "With our documents transformed into more manageable sizes, and with the correct metadata set-up, we're now ready to move on to creating our VectorStore!"
      ],
      "metadata": {
        "id": "ylT4jwmx3zCb"
      }
    },
    {
      "cell_type": "markdown",
      "source": [
        "### Task 2: Creating an \"Index\"\n",
        "\n",
        "The term \"index\" is used largely to mean: Structured documents parsed into a useful format for querying, retrieving, and use in the LLM application stack."
      ],
      "metadata": {
        "id": "9cB0L_CN38W5"
      }
    },
    {
      "cell_type": "markdown",
      "source": [
        "#### Selecting Our VectorStore\n",
        "\n",
        "There are a number of different VectorStores, and a number of different strengths and weaknesses to each.\n",
        "\n",
        "In this notebook, we will be keeping it very simple by leveraging [Facebook AI Similarity Search](https://ai.meta.com/tools/faiss/#:~:text=FAISS%20(Facebook%20AI%20Similarity%20Search,more%20scalable%20similarity%20search%20functions.), or `FAISS`."
      ],
      "metadata": {
        "id": "GycdG53N4f9Z"
      }
    },
    {
      "cell_type": "code",
      "source": [
        "!pip install -q -U faiss-cpu tiktoken"
      ],
      "metadata": {
        "id": "T5o4vwSn4hfe"
      },
      "execution_count": 35,
      "outputs": []
    },
    {
      "cell_type": "markdown",
      "source": [
        "We're going to be setting up our VectorStore with the OpenAI embeddings model. While this embeddings model does not need to be consistent with the LLM selection, it does need to be consistent between embedding our index and embedding our queries over that index.\n",
        "\n",
        "While we don't have to worry too much about that in this example - it's something to keep in mind for more complex applications.\n",
        "\n",
        "We're going to leverage a [`CacheBackedEmbeddings`](https://python.langchain.com/docs/modules/data_connection/caching_embeddings )flow to prevent us from re-embedding similar queries over and over again.\n",
        "\n",
        "Not only will this save time, it will also save us precious embedding tokens, which will reduce the overall cost for our application.\n",
        "\n",
        ">#### Note:\n",
        ">The overall cost savings needs to be compared against the additional cost of storing the cached embeddings for a true cost/benefit analysis. If your users are submitting the same queries often, though, this pattern can be a massive reduction in cost."
      ],
      "metadata": {
        "id": "CGU96p5R54Xz"
      }
    },
    {
      "cell_type": "code",
      "source": [
        "from langchain.embeddings.openai import OpenAIEmbeddings\n",
        "from langchain.embeddings import CacheBackedEmbeddings\n",
        "from langchain.vectorstores import FAISS\n",
        "from langchain.storage import LocalFileStore\n",
        "\n",
        "store = LocalFileStore(\"./cache/\")           ### YOUR CODE HERE\n",
        "\n",
        "core_embeddings_model = OpenAIEmbeddings()   ### YOUR CODE HERE\n",
        "\n",
        "embedder = CacheBackedEmbeddings.from_bytes_store(\n",
        "    core_embeddings_model,                   ### YOUR CODE HERE\n",
        "    store,                                   ### YOUR CODE HERE\n",
        "    namespace=core_embeddings_model.model,   ### YOUR CODE HERE\n",
        ")\n",
        "\n",
        "vector_store = FAISS.from_documents(documents, embedder)     ### YOUR CODE HERE"
      ],
      "metadata": {
        "id": "AOzZWPU05WLr",
        "colab": {
          "base_uri": "https://localhost:8080/"
        },
        "outputId": "9ccd318d-6268-4e64-992e-485b88244be1"
      },
      "execution_count": 36,
      "outputs": [
        {
          "output_type": "stream",
          "name": "stderr",
          "text": [
            "/usr/local/lib/python3.10/dist-packages/langchain_core/_api/deprecation.py:117: LangChainDeprecationWarning: The class `langchain_community.embeddings.openai.OpenAIEmbeddings` was deprecated in langchain-community 0.1.0 and will be removed in 0.2.0. An updated version of the class exists in the langchain-openai package and should be used instead. To use it run `pip install -U langchain-openai` and import as `from langchain_openai import OpenAIEmbeddings`.\n",
            "  warn_deprecated(\n"
          ]
        }
      ]
    },
    {
      "cell_type": "markdown",
      "source": [
        "Now that we've created the VectorStore, we can check that it's working by embedding a query and retrieving passages from our reviews that are close to it."
      ],
      "metadata": {
        "id": "IGHzcE5i6fOR"
      }
    },
    {
      "cell_type": "code",
      "source": [
        "query = \"who is the main character?\"\n",
        "embedding_vector = core_embeddings_model.embed_query(query)\n",
        "docs = vector_store.similarity_search_by_vector(embedding_vector, k = 4)\n",
        "\n",
        "for page in docs:\n",
        "  print(page.page_content)"
      ],
      "metadata": {
        "id": "JLOvFNxA6ZSH",
        "colab": {
          "base_uri": "https://localhost:8080/"
        },
        "outputId": "4e0e6e2a-d94e-4251-874a-b8efbbb7be1a"
      },
      "execution_count": 37,
      "outputs": [
        {
          "output_type": "stream",
          "name": "stdout",
          "text": [
            "remain neutral, but at a specific moment, she forces it too much, causing a disconnection with the viewer. In the following scene, there's a spectacular sequence involving Ken, creating a sensation that his storyline is better. It's not; it's just more entertaining. The only \"weak\" storyline is that of the human mother-daughter duo and the executives. It's one of the weaker aspects of a good, fun, exciting, and creative film, which falls short of being even better due to stumbling over its details.\n",
            ": 30\n",
            "Review_Date: 27 December 2023\n",
            "Author: Ed-Shullivan\n",
            "Rating: 6\n",
            "Review_Title: I would have preferred to see this as a 30 minute TV sitcom\n",
            "Review: Mrs. Shullivan and I enjoyed about the first 30 minutes of this full length feature film but after about the third song and dance number by the various Ken's we agreed that Ryan Gosling appeared to be the main character and not Barbie.\n",
            "Review_Url: /review/rw9263566/?ref_=tt_urv\n",
            "Review: There's a bold and consistent current of subversive humanism that runs through this infectious 2023 satire that director Greta Gerwig manages with stylish aplomb. She and partner Noah Baumbach have taken the Barbie mythos and built a multilayered narrative around the evolving nature of female identity and empowerment within the context of male dominance and the patriarchy that has defined sexual roles since the beginning of time. However, this is neither a treatise nor a polemic. It's still primarily a fun, free-wheeling farce with Day-Glo colors and silly choreography filling up the screen with zestful energy informed by a knowing perspective. Margot Robbie is ideally cast in the title role as she epitomizes stereotypical Barbie. Ryan Gosling gives Ken the right level of disempowerment as he gets taken in by the lure of toxic masculinity. The rest of the cast appear equally game. Gerwig has truly applied a perceptive twist to a candy-coated girlhood memory.\n",
            "have explored the mother and daughter characters and how they each struggle with being a woman in society and used Barbie as a tool of them helping to better understand each other. The movie glosses over this and despite their differences their complicated relationship is easily fixed as the focus turns back to Barbie and the focus on her. The movie brings up good ideas and a good story to once again have Hollywood ruin it. It loses focus as too many ideas, issues, characters, and plots, are brought up, to have it rushed to a finish with only some resolved. All a common problem with too many Hollywood movies these days. What is the purpose of your story? Who is it written for? Why are you writing it? Focus on that, and don't let others over complicate it. It's sad that a movie that brings up important issues especially with women's self-worth with both older and younger women is ruined by too much of everything else this movie takes on.\n"
          ]
        }
      ]
    },
    {
      "cell_type": "markdown",
      "source": [
        "Let's see how much time the `CacheBackedEmbeddings` pattern saves us:"
      ],
      "metadata": {
        "id": "ix4fyOUS-fU-"
      }
    },
    {
      "cell_type": "code",
      "source": [
        "%%timeit -n 1 -r 1\n",
        "query = \"I really wanted to enjoy this and I know that I am not the target audience but there were massive plot holes and no real flow.\"\n",
        "embedding_vector = core_embeddings_model.embed_query(query)\n",
        "docs = vector_store.similarity_search_by_vector(embedding_vector, k = 4)"
      ],
      "metadata": {
        "colab": {
          "base_uri": "https://localhost:8080/"
        },
        "id": "eLXFKzu--m81",
        "outputId": "b070c591-3410-4e42-e1cf-e6cab388bd72"
      },
      "execution_count": 38,
      "outputs": [
        {
          "output_type": "stream",
          "name": "stdout",
          "text": [
            "121 ms ± 0 ns per loop (mean ± std. dev. of 1 run, 1 loop each)\n"
          ]
        }
      ]
    },
    {
      "cell_type": "code",
      "source": [
        "%%timeit -n 1 -r 1\n",
        "query = \"I really wanted to enjoy this and I know that I am not the target audience but there were massive plot holes and no real flow.\"\n",
        "embedding_vector = core_embeddings_model.embed_query(query)\n",
        "docs = vector_store.similarity_search_by_vector(embedding_vector, k = 4)"
      ],
      "metadata": {
        "colab": {
          "base_uri": "https://localhost:8080/"
        },
        "id": "pCwtsJbc_KPd",
        "outputId": "03c8c1be-4a33-4506-8fec-f599b2c4f311"
      },
      "execution_count": 39,
      "outputs": [
        {
          "output_type": "stream",
          "name": "stdout",
          "text": [
            "119 ms ± 0 ns per loop (mean ± std. dev. of 1 run, 1 loop each)\n"
          ]
        }
      ]
    },
    {
      "cell_type": "markdown",
      "source": [
        "As we can see, even over a significant number of runs - the cached query is significantly faster than the first instance of the query!\n",
        "\n",
        "With that, we're ready to move onto Task 3!"
      ],
      "metadata": {
        "id": "b4utL1EfARTm"
      }
    },
    {
      "cell_type": "markdown",
      "source": [
        "### Task 3: Building a Retrieval Chain\n",
        "\n",
        "In this task, we'll be making a Retrieval Chain which will allow us to ask semantic questions over our data.\n",
        "\n",
        "This part is rather abstracted away from us in LangChain and so it seems very powerful.\n",
        "\n",
        "Be sure to check the documentation, the source code, and other provided resources to build a deeper understanding of what's happening \"under the hood\"!"
      ],
      "metadata": {
        "id": "Po3kHNHGBp0j"
      }
    },
    {
      "cell_type": "markdown",
      "source": [
        "#### A Basic RetrievalQA Chain\n",
        "\n",
        "We're going to leverage `return_source_documents=True` to ensure we have proper sources for our reviews - should the end user want to verify the reviews themselves.\n",
        "\n",
        "Hallucinations [are](https://arxiv.org/abs/2202.03629) [a](https://arxiv.org/abs/2305.15852) [massive](https://arxiv.org/abs/2303.16104) [problem](https://arxiv.org/abs/2305.18248) in LLM applications.\n",
        "\n",
        "Though it has been tenuously shown that using Retrieval Augmentation [reduces hallucination in conversations](https://arxiv.org/pdf/2104.07567.pdf), one sure fire way to ensure your model is not hallucinating in a non-transparent way is to provide sources with your responses. This way the end-user can verify the output."
      ],
      "metadata": {
        "id": "i5Ux9XdzCDi9"
      }
    },
    {
      "cell_type": "markdown",
      "source": [
        "#### Our LLM\n",
        "\n",
        "In this notebook, we'll continue to leverage OpenAI's suite of models - this time we'll be using the `gpt-3.5-turbo` model to power our RetrievalQAWithSources chain.\n",
        "\n",
        "Check out the relevant documentation if you get stuck:\n",
        "- [`OpenAIChat()`](https://python.langchain.com/docs/modules/model_io/models/chat/)"
      ],
      "metadata": {
        "id": "O_waVo3AEk71"
      }
    },
    {
      "cell_type": "code",
      "source": [
        "from langchain.llms.openai import OpenAIChat\n",
        "llm = OpenAIChat(model=\"gpt-3.5-turbo\")"
      ],
      "metadata": {
        "id": "QfglvbBtExPR",
        "colab": {
          "base_uri": "https://localhost:8080/"
        },
        "outputId": "ed4259c1-1547-4f70-cb47-8a309f0fea33"
      },
      "execution_count": 40,
      "outputs": [
        {
          "output_type": "stream",
          "name": "stderr",
          "text": [
            "/usr/local/lib/python3.10/dist-packages/langchain_core/_api/deprecation.py:117: LangChainDeprecationWarning: The class `langchain_community.llms.openai.OpenAIChat` was deprecated in langchain-community 0.0.1 and will be removed in 0.2.0. An updated version of the class exists in the langchain-openai package and should be used instead. To use it run `pip install -U langchain-openai` and import as `from langchain_openai import ChatOpenAI`.\n",
            "  warn_deprecated(\n"
          ]
        }
      ]
    },
    {
      "cell_type": "markdown",
      "source": [
        "Now we can set up our chain.\n",
        "\n",
        "We'll need to make our VectorStore a retriever in order to be able to leverage it in our chain - let's check out the `as_retriever()` method.\n",
        "\n",
        "Relevant Documentation:\n",
        "- [`FAISS`](https://api.python.langchain.com/en/latest/vectorstores/langchain.vectorstores.faiss.FAISS.html#langchain.vectorstores.faiss.FAISS.as_retriever)"
      ],
      "metadata": {
        "id": "w35ZkVEoE8II"
      }
    },
    {
      "cell_type": "code",
      "source": [
        "retriever = vector_store.as_retriever()"
      ],
      "metadata": {
        "id": "T8TWJMH8F_w7"
      },
      "execution_count": 41,
      "outputs": []
    },
    {
      "cell_type": "code",
      "source": [
        "from langchain.chains import RetrievalQA\n",
        "from langchain.callbacks import StdOutCallbackHandler\n",
        "\n",
        "handler = StdOutCallbackHandler()\n",
        "\n",
        "qa_with_sources_chain = RetrievalQA.from_chain_type(\n",
        "    llm= llm,                      ### YOUR CODE HERE,\n",
        "    retriever= retriever,          ### YOUR CODE HERE,\n",
        "    callbacks=[handler],\n",
        "    return_source_documents=True\n",
        ")"
      ],
      "metadata": {
        "id": "QeD8R6huFIf6"
      },
      "execution_count": 42,
      "outputs": []
    },
    {
      "cell_type": "code",
      "source": [
        "qa_with_sources_chain({\"query\" : \"How was Will Ferrell in this movie?\"})"
      ],
      "metadata": {
        "colab": {
          "base_uri": "https://localhost:8080/"
        },
        "id": "oqPaII9nF72R",
        "outputId": "e2adc2ff-41b6-415b-caf6-99282cb9719a"
      },
      "execution_count": 43,
      "outputs": [
        {
          "output_type": "stream",
          "name": "stderr",
          "text": [
            "/usr/local/lib/python3.10/dist-packages/langchain_core/_api/deprecation.py:117: LangChainDeprecationWarning: The function `__call__` was deprecated in LangChain 0.1.0 and will be removed in 0.2.0. Use invoke instead.\n",
            "  warn_deprecated(\n"
          ]
        },
        {
          "output_type": "stream",
          "name": "stdout",
          "text": [
            "\n",
            "\n",
            "\u001b[1m> Entering new RetrievalQA chain...\u001b[0m\n",
            "\n",
            "\u001b[1m> Finished chain.\u001b[0m\n"
          ]
        },
        {
          "output_type": "execute_result",
          "data": {
            "text/plain": [
              "{'query': 'How was Will Ferrell in this movie?',\n",
              " 'result': \"In the reviews provided, Will Ferrell's performance in the movie received mixed opinions. One reviewer found his character lame and felt it did not work well, while another mentioned that he ruined every scene he was in.\",\n",
              " 'source_documents': [Document(page_content=\": 103\\nReview_Date: 2 August 2023\\nAuthor: lvsargeant\\nRating: 10\\nReview_Title: So a great little movie!\\nReview: Honestly it's Ryan Gosling that made this movie for me and no not just the holy cow hot body! He's got such a great sense of humour so funny, him and Simu Liu just bounced off each other so well. It's a cute little fun movie if you just want a good laugh. Im still trying to understand Will Ferrells character though, it was very lame and I know he's supposed to be the antagonist but it really did not work for me.\\nReview_Url: /review/rw9263566/?ref_=tt_urv\", metadata={'source': '/review/rw9263566/?ref_=tt_urv', 'row': 103}),\n",
              "  Document(page_content=\": 107\\nReview_Date: 23 July 2023\\nAuthor: agjbull\\nRating: 6\\nReview_Title: Just a little empty\\nReview: I really wanted to enjoy this and I know that I am not the target audience but there were massive plot holes and no real flow. The film was very disjointed. Ryan Gosling as good as he is seemed to old to play Ken and Will Ferrell ruined every scene he was in. I just didn't get it, it seemed hollow artificial and hackneyed. A waste of some great talent. It was predictable without being reassuring and trying so hard to be woke in the most superficial way in that but trying to tick so many boxes it actually ticked none. Margo Robbie looks beautiful throughout, the costumes and the sets were amazing but the story was way too weak and didn't make much sense at all.\\nReview_Url: /review/rw9263566/?ref_=tt_urv\", metadata={'source': '/review/rw9263566/?ref_=tt_urv', 'row': 107}),\n",
              "  Document(page_content=\"Review: The movie was very funny and really enjoyable to laugh at with the full theatre. However, the messages of the movie were the problem. I was never really sure what I was supposed to take away, there was nothing about finding equality or love it was all about how every man cat falls every woman or women can't be anything. It was really silly because there was no accurate reflection of America at any single point except for Barbie getting called a Fascist for no reason by a 14 year old. I enjoyed how they called out women for hating women and how they really tried to preach empowerment and the ability to be anything, but at the same time there was so much resentment and they ended the movie by reinstating hate. The majority of the movie was hating men as much as possible. That's just whatever because what really matters is the story. Well it fell short on that mark and it was really disappointing. The pacing was horrible, the villain won and was pretty irrelevant in the long run,\", metadata={'source': '/review/rw9263566/?ref_=tt_urv', 'row': 36}),\n",
              "  Document(page_content='I can imagine that in the boardroom they went through a discussion like this: People are going to think this is a feel good movie so we need to give them something deeper but also lets make it absurd and fast paced so that we can finish the plot quickly and also jump on the \"not taking itself serious\" bandwagon and also market these dolls again in the age of smartphone kids. The only reason this movie gets at 5 from me is the humor, which sometimes becomes very meta and creative and Margot Robbie and Ryan Gosling have acted very well. Besides this, they could have just given us a simple feel good movie and I would have respected the creators more. Pass.\\nReview_Url: /review/rw9263566/?ref_=tt_urv', metadata={'source': '/review/rw9263566/?ref_=tt_urv', 'row': 82})]}"
            ]
          },
          "metadata": {},
          "execution_count": 43
        }
      ]
    },
    {
      "cell_type": "code",
      "source": [
        "qa_with_sources_chain({\"query\" : \"who is the main character of the movie?\"})"
      ],
      "metadata": {
        "colab": {
          "base_uri": "https://localhost:8080/"
        },
        "id": "zzGQ9DiPloaw",
        "outputId": "ce208871-f94b-4f77-e2a3-0f338e02b6ce"
      },
      "execution_count": 45,
      "outputs": [
        {
          "output_type": "stream",
          "name": "stdout",
          "text": [
            "\n",
            "\n",
            "\u001b[1m> Entering new RetrievalQA chain...\u001b[0m\n",
            "\n",
            "\u001b[1m> Finished chain.\u001b[0m\n"
          ]
        },
        {
          "output_type": "execute_result",
          "data": {
            "text/plain": [
              "{'query': 'who is the main character of the movie?',\n",
              " 'result': 'The main character of the movie is Barbie.',\n",
              " 'source_documents': [Document(page_content=\": 30\\nReview_Date: 27 December 2023\\nAuthor: Ed-Shullivan\\nRating: 6\\nReview_Title: I would have preferred to see this as a 30 minute TV sitcom\\nReview: Mrs. Shullivan and I enjoyed about the first 30 minutes of this full length feature film but after about the third song and dance number by the various Ken's we agreed that Ryan Gosling appeared to be the main character and not Barbie.\\nReview_Url: /review/rw9263566/?ref_=tt_urv\", metadata={'source': '/review/rw9263566/?ref_=tt_urv', 'row': 30}),\n",
              "  Document(page_content='remain neutral, but at a specific moment, she forces it too much, causing a disconnection with the viewer. In the following scene, there\\'s a spectacular sequence involving Ken, creating a sensation that his storyline is better. It\\'s not; it\\'s just more entertaining. The only \"weak\" storyline is that of the human mother-daughter duo and the executives. It\\'s one of the weaker aspects of a good, fun, exciting, and creative film, which falls short of being even better due to stumbling over its details.', metadata={'source': '/review/rw9263566/?ref_=tt_urv', 'row': 120}),\n",
              "  Document(page_content=\"Review: There's a bold and consistent current of subversive humanism that runs through this infectious 2023 satire that director Greta Gerwig manages with stylish aplomb. She and partner Noah Baumbach have taken the Barbie mythos and built a multilayered narrative around the evolving nature of female identity and empowerment within the context of male dominance and the patriarchy that has defined sexual roles since the beginning of time. However, this is neither a treatise nor a polemic. It's still primarily a fun, free-wheeling farce with Day-Glo colors and silly choreography filling up the screen with zestful energy informed by a knowing perspective. Margot Robbie is ideally cast in the title role as she epitomizes stereotypical Barbie. Ryan Gosling gives Ken the right level of disempowerment as he gets taken in by the lure of toxic masculinity. The rest of the cast appear equally game. Gerwig has truly applied a perceptive twist to a candy-coated girlhood memory.\", metadata={'source': '/review/rw9263566/?ref_=tt_urv', 'row': 116}),\n",
              "  Document(page_content=\"Review: The movie starts in one direction and then changes course half way through to a rushed and unsatisfying end. The second hour of the movie is a stark contrast to the first hour. There were funny moments mixed with thoughtful gender roles, views on our patriarchal society, self-worth, etc. That took a complicated subject and made it interesting in the first half. The problem is, the movie then begins to take itself too seriously and the second half loses the clever comedy and pushes stereotypes of male and female gender roles in our society to become a rushed mess of a story that becomes preachy. There are a lot of issues in today's society with regards to gender roles, feminism, our patriarchal society, etc. The problem is the movie seems to take on some of these issues with comedy, then takes a more serious tone, and rushes through the second half so that characters brought forward in the first half have no real resolution. Sure Barbie finds her purpose at the movie's end, but\", metadata={'source': '/review/rw9263566/?ref_=tt_urv', 'row': 89})]}"
            ]
          },
          "metadata": {},
          "execution_count": 45
        }
      ]
    },
    {
      "cell_type": "code",
      "source": [
        "qa_with_sources_chain({\"query\" : \"Do reviewers consider this movie Kenough?\"})"
      ],
      "metadata": {
        "colab": {
          "base_uri": "https://localhost:8080/"
        },
        "id": "47Ov7N22MxOS",
        "outputId": "1e86f81a-cf16-43aa-984d-11758c59ffe9"
      },
      "execution_count": 44,
      "outputs": [
        {
          "output_type": "stream",
          "name": "stdout",
          "text": [
            "\n",
            "\n",
            "\u001b[1m> Entering new RetrievalQA chain...\u001b[0m\n",
            "\n",
            "\u001b[1m> Finished chain.\u001b[0m\n"
          ]
        },
        {
          "output_type": "execute_result",
          "data": {
            "text/plain": [
              "{'query': 'Do reviewers consider this movie Kenough?',\n",
              " 'result': 'Based on the given reviews, it seems that reviewers are mixed on whether they consider the movie \"Kenough.\" Two reviewers gave it a rating of 8, indicating they enjoyed it, while two reviewers gave it a rating of 6, indicating they had some issues with the film.',\n",
              " 'source_documents': [Document(page_content=': 39\\nReview_Date: 23 July 2023\\nAuthor: eoinageary\\nRating: 8\\nReview_Title: I am Kenough\\nReview: So I went into the movie with little to no expectations and I was pleasantly impressed with the movie overall.\\nReview_Url: /review/rw9263566/?ref_=tt_urv', metadata={'source': '/review/rw9263566/?ref_=tt_urv', 'row': 39}),\n",
              "  Document(page_content=\": 54\\nReview_Date: 24 September 2023\\nAuthor: questl-18592\\nRating: 6\\nReview_Title: Kenough\\nReview: Movies are odd sometimes. In this case, I feel like the review I would have written the second the credits rolled would've been more positive than the one I'm watching now, a couple of hours later. But, as I've had time to sit with this one, I can't help but feel my opinion on it... Diminishing.\\nReview_Url: /review/rw9263566/?ref_=tt_urv\", metadata={'source': '/review/rw9263566/?ref_=tt_urv', 'row': 54}),\n",
              "  Document(page_content=': 18\\nReview_Date: 20 July 2023\\nAuthor: Genti26\\nRating: 8\\nReview_Title: You are Kenough\\nReview: This movie is so much fun. It starts off really strong although the story does move away from \"Barbieland\" sooner than I would have liked. Nonetheless, it regains its footing with the final act in particular and I could not stop laughing at Ryan Gosling\\'s portrayal of Ken. That song will forever be stuck in my head.\\nReview_Url: /review/rw9263566/?ref_=tt_urv', metadata={'source': '/review/rw9263566/?ref_=tt_urv', 'row': 18}),\n",
              "  Document(page_content=\": 107\\nReview_Date: 23 July 2023\\nAuthor: agjbull\\nRating: 6\\nReview_Title: Just a little empty\\nReview: I really wanted to enjoy this and I know that I am not the target audience but there were massive plot holes and no real flow. The film was very disjointed. Ryan Gosling as good as he is seemed to old to play Ken and Will Ferrell ruined every scene he was in. I just didn't get it, it seemed hollow artificial and hackneyed. A waste of some great talent. It was predictable without being reassuring and trying so hard to be woke in the most superficial way in that but trying to tick so many boxes it actually ticked none. Margo Robbie looks beautiful throughout, the costumes and the sets were amazing but the story was way too weak and didn't make much sense at all.\\nReview_Url: /review/rw9263566/?ref_=tt_urv\", metadata={'source': '/review/rw9263566/?ref_=tt_urv', 'row': 107})]}"
            ]
          },
          "metadata": {},
          "execution_count": 44
        }
      ]
    },
    {
      "cell_type": "markdown",
      "source": [
        "And with that, we have our Barbie Review RAQA Application built!"
      ],
      "metadata": {
        "id": "QQVCkoy3H5Rw"
      }
    },
    {
      "cell_type": "markdown",
      "source": [
        "### Conclusion\n",
        "\n",
        "Now that we have our application ready, let's deploy it to a Hugging Face space with their Docker spaces.\n",
        "\n",
        "You can find the next part [here](https://ai-maker-space-barbie-raqa-application-chainlit-demo.hf.space/readme)!\n",
        "\n",
        "You've built, now it's time to ship! 🚢"
      ],
      "metadata": {
        "id": "KqIHum95dtns"
      }
    },
    {
      "cell_type": "markdown",
      "source": [
        "**Note that, you might face issue with OpenAi version, so if you get error regarding OpenAi then run the following command. bold text**"
      ],
      "metadata": {
        "id": "Ai9RKr_UmEai"
      }
    },
    {
      "cell_type": "code",
      "source": [
        "pip install openai==0.28"
      ],
      "metadata": {
        "colab": {
          "base_uri": "https://localhost:8080/"
        },
        "id": "5VpD83PRjthR",
        "outputId": "fee6481a-0bf4-4c2b-b770-6e63f5370bc3"
      },
      "execution_count": 13,
      "outputs": [
        {
          "output_type": "stream",
          "name": "stdout",
          "text": [
            "Collecting openai==0.28\n",
            "  Using cached openai-0.28.0-py3-none-any.whl (76 kB)\n",
            "Requirement already satisfied: requests>=2.20 in /usr/local/lib/python3.10/dist-packages (from openai==0.28) (2.31.0)\n",
            "Requirement already satisfied: tqdm in /usr/local/lib/python3.10/dist-packages (from openai==0.28) (4.66.2)\n",
            "Requirement already satisfied: aiohttp in /usr/local/lib/python3.10/dist-packages (from openai==0.28) (3.9.3)\n",
            "Requirement already satisfied: charset-normalizer<4,>=2 in /usr/local/lib/python3.10/dist-packages (from requests>=2.20->openai==0.28) (3.3.2)\n",
            "Requirement already satisfied: idna<4,>=2.5 in /usr/local/lib/python3.10/dist-packages (from requests>=2.20->openai==0.28) (3.6)\n",
            "Requirement already satisfied: urllib3<3,>=1.21.1 in /usr/local/lib/python3.10/dist-packages (from requests>=2.20->openai==0.28) (2.0.7)\n",
            "Requirement already satisfied: certifi>=2017.4.17 in /usr/local/lib/python3.10/dist-packages (from requests>=2.20->openai==0.28) (2024.2.2)\n",
            "Requirement already satisfied: aiosignal>=1.1.2 in /usr/local/lib/python3.10/dist-packages (from aiohttp->openai==0.28) (1.3.1)\n",
            "Requirement already satisfied: attrs>=17.3.0 in /usr/local/lib/python3.10/dist-packages (from aiohttp->openai==0.28) (23.2.0)\n",
            "Requirement already satisfied: frozenlist>=1.1.1 in /usr/local/lib/python3.10/dist-packages (from aiohttp->openai==0.28) (1.4.1)\n",
            "Requirement already satisfied: multidict<7.0,>=4.5 in /usr/local/lib/python3.10/dist-packages (from aiohttp->openai==0.28) (6.0.5)\n",
            "Requirement already satisfied: yarl<2.0,>=1.0 in /usr/local/lib/python3.10/dist-packages (from aiohttp->openai==0.28) (1.9.4)\n",
            "Requirement already satisfied: async-timeout<5.0,>=4.0 in /usr/local/lib/python3.10/dist-packages (from aiohttp->openai==0.28) (4.0.3)\n",
            "Installing collected packages: openai\n",
            "  Attempting uninstall: openai\n",
            "    Found existing installation: openai 1.12.0\n",
            "    Uninstalling openai-1.12.0:\n",
            "      Successfully uninstalled openai-1.12.0\n",
            "Successfully installed openai-0.28.0\n"
          ]
        }
      ]
    },
    {
      "cell_type": "code",
      "source": [],
      "metadata": {
        "id": "IASA1yaad6ml"
      },
      "execution_count": null,
      "outputs": []
    }
  ]
}